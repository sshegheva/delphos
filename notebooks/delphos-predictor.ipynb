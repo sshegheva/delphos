{
 "cells": [
  {
   "cell_type": "code",
   "execution_count": 1,
   "metadata": {
    "collapsed": true
   },
   "outputs": [],
   "source": [
    "%matplotlib inline"
   ]
  },
  {
   "cell_type": "code",
   "execution_count": 2,
   "metadata": {
    "collapsed": false
   },
   "outputs": [
    {
     "data": {
      "text/plain": [
       "<module 'delphos.finalist_predictor.feature_transform' from '/Users/sshegheva/workspace/delphos/delphos/finalist_predictor/feature_transform.pyc'>"
      ]
     },
     "execution_count": 2,
     "metadata": {},
     "output_type": "execute_result"
    }
   ],
   "source": [
    "import sys\n",
    "import nltk\n",
    "sys.path.append('/Users/sshegheva/workspace/delphos')\n",
    "import pandas as pd\n",
    "import numpy as np\n",
    "from delphos.finalist_predictor import feature_transform\n",
    "reload(feature_transform)"
   ]
  },
  {
   "cell_type": "code",
   "execution_count": 3,
   "metadata": {
    "collapsed": true
   },
   "outputs": [],
   "source": [
    "data = './data/innovations/'"
   ]
  },
  {
   "cell_type": "code",
   "execution_count": 4,
   "metadata": {
    "collapsed": false
   },
   "outputs": [
    {
     "name": "stderr",
     "output_type": "stream",
     "text": [
      "DEBUG:delphos.finalist_predictor.feature_transform:Parsing ./data/innovations/inno10.csv\n",
      "DEBUG:delphos.finalist_predictor.feature_transform:Parsed ./data/innovations/inno10.csv\n",
      "DEBUG:delphos.finalist_predictor.feature_transform:Parsing ./data/innovations/inno2.csv\n",
      "DEBUG:delphos.finalist_predictor.feature_transform:Parsed ./data/innovations/inno2.csv\n",
      "DEBUG:delphos.finalist_predictor.feature_transform:Parsing ./data/innovations/inno3.csv\n",
      "DEBUG:delphos.finalist_predictor.feature_transform:Parsed ./data/innovations/inno3.csv\n",
      "DEBUG:delphos.finalist_predictor.feature_transform:Parsing ./data/innovations/inno4.csv\n",
      "DEBUG:delphos.finalist_predictor.feature_transform:Parsed ./data/innovations/inno4.csv\n",
      "DEBUG:delphos.finalist_predictor.feature_transform:Parsing ./data/innovations/inno5.csv\n",
      "DEBUG:delphos.finalist_predictor.feature_transform:Parsed ./data/innovations/inno5.csv\n",
      "DEBUG:delphos.finalist_predictor.feature_transform:Parsing ./data/innovations/inno6.csv\n",
      "DEBUG:delphos.finalist_predictor.feature_transform:Parsed ./data/innovations/inno6.csv\n",
      "DEBUG:delphos.finalist_predictor.feature_transform:Parsing ./data/innovations/inno7.csv\n",
      "DEBUG:delphos.finalist_predictor.feature_transform:Parsed ./data/innovations/inno7.csv\n",
      "DEBUG:delphos.finalist_predictor.feature_transform:Parsing ./data/innovations/inno8.csv\n",
      "DEBUG:delphos.finalist_predictor.feature_transform:Parsed ./data/innovations/inno8.csv\n",
      "DEBUG:delphos.finalist_predictor.feature_transform:Parsing ./data/innovations/inno9.csv\n",
      "DEBUG:delphos.finalist_predictor.feature_transform:Parsed ./data/innovations/inno9.csv\n"
     ]
    }
   ],
   "source": [
    "inno_frame = feature_transform.create_innovation_frame(data)"
   ]
  },
  {
   "cell_type": "code",
   "execution_count": 5,
   "metadata": {
    "collapsed": false
   },
   "outputs": [
    {
     "name": "stderr",
     "output_type": "stream",
     "text": [
      "/Users/sshegheva/workspace/delphos/delphos/finalist_predictor/feature_transform.py:195: SettingWithCopyWarning: A value is trying to be set on a copy of a slice from a DataFrame\n",
      "  df_features.fillna(0, inplace=True)\n"
     ]
    }
   ],
   "source": [
    "trn_df = inno_frame[inno_frame.innovation_day != 'inno10']\n",
    "trn_features, trn_label = feature_transform.transform_frame(trn_df)"
   ]
  },
  {
   "cell_type": "code",
   "execution_count": 6,
   "metadata": {
    "collapsed": false
   },
   "outputs": [
    {
     "data": {
      "text/plain": [
       "<224x498 sparse matrix of type '<type 'numpy.float64'>'\n",
       "\twith 1691 stored elements in Compressed Sparse Row format>"
      ]
     },
     "execution_count": 6,
     "metadata": {},
     "output_type": "execute_result"
    }
   ],
   "source": [
    "trn_features"
   ]
  },
  {
   "cell_type": "code",
   "execution_count": 19,
   "metadata": {
    "collapsed": false
   },
   "outputs": [],
   "source": [
    "tst_df = inno_frame[inno_frame.innovation_day == 'inno10']\n",
    "tst_features, tst_label = feature_transform.transform_frame(tst_df)"
   ]
  },
  {
   "cell_type": "code",
   "execution_count": 21,
   "metadata": {
    "collapsed": false
   },
   "outputs": [
    {
     "data": {
      "text/html": [
       "<div style=\"max-height:1000px;max-width:1500px;overflow:auto;\">\n",
       "<table border=\"1\" class=\"dataframe\">\n",
       "  <thead>\n",
       "    <tr style=\"text-align: right;\">\n",
       "      <th></th>\n",
       "      <th>index</th>\n",
       "      <th>Category (people, process, product)</th>\n",
       "      <th>Judging Session</th>\n",
       "      <th>Session</th>\n",
       "      <th>Session Assignment</th>\n",
       "      <th>innovation_day</th>\n",
       "      <th>judging session (To be assigned)</th>\n",
       "      <th>location</th>\n",
       "      <th>members</th>\n",
       "      <th>place</th>\n",
       "      <th>style</th>\n",
       "      <th>team_name</th>\n",
       "      <th>team_size</th>\n",
       "      <th>topic</th>\n",
       "    </tr>\n",
       "  </thead>\n",
       "  <tbody>\n",
       "    <tr>\n",
       "      <th>0 </th>\n",
       "      <td>  0</td>\n",
       "      <td> NaN</td>\n",
       "      <td> NaN</td>\n",
       "      <td> NaN</td>\n",
       "      <td>  BOS-Blue</td>\n",
       "      <td> inno10</td>\n",
       "      <td> NaN</td>\n",
       "      <td>                   Boston</td>\n",
       "      <td> [Imran Malek,  Jeff Rabe,  Aadil Maniar,  Gar ...</td>\n",
       "      <td> TBD</td>\n",
       "      <td> Classic</td>\n",
       "      <td>                               B2Beast</td>\n",
       "      <td> 6</td>\n",
       "      <td>            Enhanced solution for B2B/IP targeting</td>\n",
       "    </tr>\n",
       "    <tr>\n",
       "      <th>1 </th>\n",
       "      <td>  1</td>\n",
       "      <td> NaN</td>\n",
       "      <td> NaN</td>\n",
       "      <td> NaN</td>\n",
       "      <td>  BOS-Blue</td>\n",
       "      <td> inno10</td>\n",
       "      <td> NaN</td>\n",
       "      <td>                   Boston</td>\n",
       "      <td>         [Ryan Carey. Louiza Ogbue Leonard Steele]</td>\n",
       "      <td> TBD</td>\n",
       "      <td>     GSD</td>\n",
       "      <td>                              Cloud DB</td>\n",
       "      <td> 1</td>\n",
       "      <td> Create a multi-node greenplum cluster in AWS. ...</td>\n",
       "    </tr>\n",
       "    <tr>\n",
       "      <th>2 </th>\n",
       "      <td>  2</td>\n",
       "      <td> NaN</td>\n",
       "      <td> NaN</td>\n",
       "      <td> NaN</td>\n",
       "      <td>      APAC</td>\n",
       "      <td> inno10</td>\n",
       "      <td> NaN</td>\n",
       "      <td>                Bangalore</td>\n",
       "      <td> [Ramesh Raithatha, Vineeti Louis, Shruthi Appu...</td>\n",
       "      <td> TBD</td>\n",
       "      <td> Classic</td>\n",
       "      <td>                                 Couch</td>\n",
       "      <td> 4</td>\n",
       "      <td>              Running��Virtual��test��lab��locally</td>\n",
       "    </tr>\n",
       "    <tr>\n",
       "      <th>3 </th>\n",
       "      <td>  3</td>\n",
       "      <td> NaN</td>\n",
       "      <td> NaN</td>\n",
       "      <td> NaN</td>\n",
       "      <td>   BOS-Red</td>\n",
       "      <td> inno10</td>\n",
       "      <td> NaN</td>\n",
       "      <td>                   Boston</td>\n",
       "      <td> [Narin Nhem ,  GR Vishwanath ,  Molly Heller ,...</td>\n",
       "      <td> TBD</td>\n",
       "      <td>     GSD</td>\n",
       "      <td>                      Daily Delta Data</td>\n",
       "      <td> 4</td>\n",
       "      <td> Gather history of daily delta check and store ...</td>\n",
       "    </tr>\n",
       "    <tr>\n",
       "      <th>4 </th>\n",
       "      <td>  4</td>\n",
       "      <td> NaN</td>\n",
       "      <td> NaN</td>\n",
       "      <td> NaN</td>\n",
       "      <td> BOS-Green</td>\n",
       "      <td> inno10</td>\n",
       "      <td> NaN</td>\n",
       "      <td>        Boston/Montevideo</td>\n",
       "      <td> [Snejana Shegheva,  Santiago Carrera,  Victori...</td>\n",
       "      <td> TBD</td>\n",
       "      <td> Classic</td>\n",
       "      <td>                               Delphos</td>\n",
       "      <td> 4</td>\n",
       "      <td> As DataXu grows, we need to be able to scale l...</td>\n",
       "    </tr>\n",
       "    <tr>\n",
       "      <th>5 </th>\n",
       "      <td>  5</td>\n",
       "      <td> NaN</td>\n",
       "      <td> NaN</td>\n",
       "      <td> NaN</td>\n",
       "      <td>   BOS-Red</td>\n",
       "      <td> inno10</td>\n",
       "      <td> NaN</td>\n",
       "      <td>                   Boston</td>\n",
       "      <td> [Joe Procacci,  John Skolfield,  Matt Womer,  ...</td>\n",
       "      <td> TBD</td>\n",
       "      <td>     GSD</td>\n",
       "      <td>                             Doctor Xu</td>\n",
       "      <td> 6</td>\n",
       "      <td> Tool suite to test, audit, and fix creative ta...</td>\n",
       "    </tr>\n",
       "    <tr>\n",
       "      <th>6 </th>\n",
       "      <td>  6</td>\n",
       "      <td> NaN</td>\n",
       "      <td> NaN</td>\n",
       "      <td> NaN</td>\n",
       "      <td>       NaN</td>\n",
       "      <td> inno10</td>\n",
       "      <td> NaN</td>\n",
       "      <td>                   Boston</td>\n",
       "      <td> [Tom Rue,  Looking for all sorts of help! Leon...</td>\n",
       "      <td> TBD</td>\n",
       "      <td>     GSD</td>\n",
       "      <td>                      Drag and Drop UI</td>\n",
       "      <td> 2</td>\n",
       "      <td> Create a web based graphical user interface th...</td>\n",
       "    </tr>\n",
       "    <tr>\n",
       "      <th>7 </th>\n",
       "      <td>  7</td>\n",
       "      <td> NaN</td>\n",
       "      <td> NaN</td>\n",
       "      <td> NaN</td>\n",
       "      <td>       NaN</td>\n",
       "      <td> inno10</td>\n",
       "      <td> NaN</td>\n",
       "      <td>                  Chicago</td>\n",
       "      <td> [Bob Brazys is looking for a team - needs: Opt...</td>\n",
       "      <td> TBD</td>\n",
       "      <td>     GSD</td>\n",
       "      <td>            Drive It Like You Stole It</td>\n",
       "      <td> 3</td>\n",
       "      <td> Create \"ASAP Rate Controller\" access in the UI...</td>\n",
       "    </tr>\n",
       "    <tr>\n",
       "      <th>8 </th>\n",
       "      <td>  8</td>\n",
       "      <td> NaN</td>\n",
       "      <td> NaN</td>\n",
       "      <td> NaN</td>\n",
       "      <td> BOS-Green</td>\n",
       "      <td> inno10</td>\n",
       "      <td> NaN</td>\n",
       "      <td>      Boston / Montevideo</td>\n",
       "      <td> [Kim Marchand,  M��ximo Gurm̩ndez,  Martin Bom...</td>\n",
       "      <td> TBD</td>\n",
       "      <td> Classic</td>\n",
       "      <td>                           DX Co-Pilot</td>\n",
       "      <td> 5</td>\n",
       "      <td> Flight insights and recommendations right on t...</td>\n",
       "    </tr>\n",
       "    <tr>\n",
       "      <th>9 </th>\n",
       "      <td>  9</td>\n",
       "      <td> NaN</td>\n",
       "      <td> NaN</td>\n",
       "      <td> NaN</td>\n",
       "      <td>   BOS-Red</td>\n",
       "      <td> inno10</td>\n",
       "      <td> NaN</td>\n",
       "      <td>                   Boston</td>\n",
       "      <td> [Saket Mengle,  Amit Phansalkar,  Ted Vlachos,...</td>\n",
       "      <td> TBD</td>\n",
       "      <td> Classic</td>\n",
       "      <td>                            DXPolitics</td>\n",
       "      <td> 5</td>\n",
       "      <td> Create segments of users based on their politi...</td>\n",
       "    </tr>\n",
       "    <tr>\n",
       "      <th>10</th>\n",
       "      <td> 10</td>\n",
       "      <td> NaN</td>\n",
       "      <td> NaN</td>\n",
       "      <td> NaN</td>\n",
       "      <td>   BOS-Red</td>\n",
       "      <td> inno10</td>\n",
       "      <td> NaN</td>\n",
       "      <td>                   Boston</td>\n",
       "      <td> [Emilio Lapiello,  Michael Hall,  Josh Begleit...</td>\n",
       "      <td> TBD</td>\n",
       "      <td>     GSD</td>\n",
       "      <td>                        Easy Analytics</td>\n",
       "      <td> 5</td>\n",
       "      <td>                   Automated, self-serve analytics</td>\n",
       "    </tr>\n",
       "    <tr>\n",
       "      <th>11</th>\n",
       "      <td> 11</td>\n",
       "      <td> NaN</td>\n",
       "      <td> NaN</td>\n",
       "      <td> NaN</td>\n",
       "      <td>        ��</td>\n",
       "      <td> inno10</td>\n",
       "      <td> NaN</td>\n",
       "      <td>                   Boston</td>\n",
       "      <td>       [Corey Christous,  Dan Lui,  Zhuoming Tang]</td>\n",
       "      <td> TBD</td>\n",
       "      <td> Classic</td>\n",
       "      <td>                           ELK for CMS</td>\n",
       "      <td> 3</td>\n",
       "      <td> Set up Elasticsearch, Logstash, and Kibana for...</td>\n",
       "    </tr>\n",
       "    <tr>\n",
       "      <th>12</th>\n",
       "      <td> 12</td>\n",
       "      <td> NaN</td>\n",
       "      <td> NaN</td>\n",
       "      <td> NaN</td>\n",
       "      <td>   BOS-Red</td>\n",
       "      <td> inno10</td>\n",
       "      <td> NaN</td>\n",
       "      <td>                   Boston</td>\n",
       "      <td> [Amelio Vazquez-Reina,  Dan Caddigan,  Beth Lo...</td>\n",
       "      <td> TBD</td>\n",
       "      <td>     GSD</td>\n",
       "      <td>                     Eternal Optimists</td>\n",
       "      <td> 5</td>\n",
       "      <td> Let's automate suggesting and applying key opt...</td>\n",
       "    </tr>\n",
       "    <tr>\n",
       "      <th>13</th>\n",
       "      <td> 13</td>\n",
       "      <td> NaN</td>\n",
       "      <td> NaN</td>\n",
       "      <td> NaN</td>\n",
       "      <td>     EU/UK</td>\n",
       "      <td> inno10</td>\n",
       "      <td> NaN</td>\n",
       "      <td>                   London</td>\n",
       "      <td>     [Hui Li,  Alessio Gastaldo,  Catia Silvestre]</td>\n",
       "      <td> TBD</td>\n",
       "      <td> Classic</td>\n",
       "      <td>                              FairPlay</td>\n",
       "      <td> 3</td>\n",
       "      <td> Cooperative and Multi-Objective: Solution for ...</td>\n",
       "    </tr>\n",
       "    <tr>\n",
       "      <th>14</th>\n",
       "      <td> 14</td>\n",
       "      <td> NaN</td>\n",
       "      <td> NaN</td>\n",
       "      <td> NaN</td>\n",
       "      <td>     EU/UK</td>\n",
       "      <td> inno10</td>\n",
       "      <td> NaN</td>\n",
       "      <td>                   London</td>\n",
       "      <td>                    [Berit Block Christel Persson]</td>\n",
       "      <td> TBD</td>\n",
       "      <td> Classic</td>\n",
       "      <td>                              Hello UI</td>\n",
       "      <td> 1</td>\n",
       "      <td> Let's use our platform/ UI to communicate with...</td>\n",
       "    </tr>\n",
       "    <tr>\n",
       "      <th>15</th>\n",
       "      <td> 15</td>\n",
       "      <td> NaN</td>\n",
       "      <td> NaN</td>\n",
       "      <td> NaN</td>\n",
       "      <td>      APAC</td>\n",
       "      <td> inno10</td>\n",
       "      <td> NaN</td>\n",
       "      <td>                Singapore</td>\n",
       "      <td>                   [Kenneth Karunia, Nazree Bakar]</td>\n",
       "      <td> TBD</td>\n",
       "      <td> Classic</td>\n",
       "      <td>                           IP Expander</td>\n",
       "      <td> 2</td>\n",
       "      <td> Simple IP address printing program with pseudo...</td>\n",
       "    </tr>\n",
       "    <tr>\n",
       "      <th>16</th>\n",
       "      <td> 16</td>\n",
       "      <td> NaN</td>\n",
       "      <td> NaN</td>\n",
       "      <td> NaN</td>\n",
       "      <td> BOS-Green</td>\n",
       "      <td> inno10</td>\n",
       "      <td> NaN</td>\n",
       "      <td> Boston - executed Remote</td>\n",
       "      <td>                [Celia Courtright,  Anthony White]</td>\n",
       "      <td> TBD</td>\n",
       "      <td>      ��</td>\n",
       "      <td>                         JIRA Planning</td>\n",
       "      <td> 2</td>\n",
       "      <td> Build a new UI for planning in JIRA to support...</td>\n",
       "    </tr>\n",
       "    <tr>\n",
       "      <th>17</th>\n",
       "      <td> 17</td>\n",
       "      <td> NaN</td>\n",
       "      <td> NaN</td>\n",
       "      <td> NaN</td>\n",
       "      <td>  BOS-Blue</td>\n",
       "      <td> inno10</td>\n",
       "      <td> NaN</td>\n",
       "      <td>                   Boston</td>\n",
       "      <td>                  [Bill Mepham. Partners welcome.]</td>\n",
       "      <td> TBD</td>\n",
       "      <td> Classic</td>\n",
       "      <td> Mythical Man Month Mathematical Model</td>\n",
       "      <td> 1</td>\n",
       "      <td> Illustration of the challenges in efficiency t...</td>\n",
       "    </tr>\n",
       "    <tr>\n",
       "      <th>18</th>\n",
       "      <td> 18</td>\n",
       "      <td> NaN</td>\n",
       "      <td> NaN</td>\n",
       "      <td> NaN</td>\n",
       "      <td> BOS-Green</td>\n",
       "      <td> inno10</td>\n",
       "      <td> NaN</td>\n",
       "      <td>                       ��</td>\n",
       "      <td>                                    [Michael Oort]</td>\n",
       "      <td> TBD</td>\n",
       "      <td> Classic</td>\n",
       "      <td>                  Native Open Creative</td>\n",
       "      <td> 1</td>\n",
       "      <td> Running native creative ads on mobile devices ...</td>\n",
       "    </tr>\n",
       "    <tr>\n",
       "      <th>19</th>\n",
       "      <td> 19</td>\n",
       "      <td> NaN</td>\n",
       "      <td> NaN</td>\n",
       "      <td> NaN</td>\n",
       "      <td>   BOS-Red</td>\n",
       "      <td> inno10</td>\n",
       "      <td> NaN</td>\n",
       "      <td>                   Boston</td>\n",
       "      <td> [Eric Mischel,  Joe Procacci,  Keri Medeiros, ...</td>\n",
       "      <td> TBD</td>\n",
       "      <td>     GSD</td>\n",
       "      <td>                               Octopus</td>\n",
       "      <td> 4</td>\n",
       "      <td> Bulk Modify Creatives. Save Time! Make People ...</td>\n",
       "    </tr>\n",
       "    <tr>\n",
       "      <th>20</th>\n",
       "      <td> 20</td>\n",
       "      <td> NaN</td>\n",
       "      <td> NaN</td>\n",
       "      <td> NaN</td>\n",
       "      <td>     EU/UK</td>\n",
       "      <td> inno10</td>\n",
       "      <td> NaN</td>\n",
       "      <td>                  Cologne</td>\n",
       "      <td>                      [Sascha Becker,  Arno H̦fer]</td>\n",
       "      <td> TBD</td>\n",
       "      <td> Classic</td>\n",
       "      <td>              Omnichannel DCO Solution</td>\n",
       "      <td> 2</td>\n",
       "      <td> Easy and fast DCO solution directly in UI with...</td>\n",
       "    </tr>\n",
       "    <tr>\n",
       "      <th>21</th>\n",
       "      <td> 21</td>\n",
       "      <td> NaN</td>\n",
       "      <td> NaN</td>\n",
       "      <td> NaN</td>\n",
       "      <td>        ��</td>\n",
       "      <td> inno10</td>\n",
       "      <td> NaN</td>\n",
       "      <td>                   Boston</td>\n",
       "      <td> [Rich Dallojacono,  Eric Speck,  Manjula Kanda...</td>\n",
       "      <td> TBD</td>\n",
       "      <td>     GSD</td>\n",
       "      <td>                  Rate Cards, Finally!</td>\n",
       "      <td> 5</td>\n",
       "      <td>                    Rate Cards available in the UI</td>\n",
       "    </tr>\n",
       "    <tr>\n",
       "      <th>22</th>\n",
       "      <td> 22</td>\n",
       "      <td> NaN</td>\n",
       "      <td> NaN</td>\n",
       "      <td> NaN</td>\n",
       "      <td>        ��</td>\n",
       "      <td> inno10</td>\n",
       "      <td> NaN</td>\n",
       "      <td>                   Boston</td>\n",
       "      <td>                                         [Tom Rue]</td>\n",
       "      <td> TBD</td>\n",
       "      <td>     GSD</td>\n",
       "      <td>        Retargeting Performance Alerts</td>\n",
       "      <td> 1</td>\n",
       "      <td> Alerts that are sent when retargeting performa...</td>\n",
       "    </tr>\n",
       "    <tr>\n",
       "      <th>23</th>\n",
       "      <td> 23</td>\n",
       "      <td> NaN</td>\n",
       "      <td> NaN</td>\n",
       "      <td> NaN</td>\n",
       "      <td>      APAC</td>\n",
       "      <td> inno10</td>\n",
       "      <td> NaN</td>\n",
       "      <td>                Bangalore</td>\n",
       "      <td> [Rohit Bhattacharjee, Amit Pal, Ravi Agarwal, ...</td>\n",
       "      <td> TBD</td>\n",
       "      <td> Classic</td>\n",
       "      <td>                                Rocket</td>\n",
       "      <td> 4</td>\n",
       "      <td> Pub/Sub Model for Async Communications among s...</td>\n",
       "    </tr>\n",
       "    <tr>\n",
       "      <th>24</th>\n",
       "      <td> 24</td>\n",
       "      <td> NaN</td>\n",
       "      <td> NaN</td>\n",
       "      <td> NaN</td>\n",
       "      <td> BOS-Green</td>\n",
       "      <td> inno10</td>\n",
       "      <td> NaN</td>\n",
       "      <td>                   Boston</td>\n",
       "      <td>           [Andrew Dudevoir,  Dan Reis,  Lynn Tan]</td>\n",
       "      <td> TBD</td>\n",
       "      <td>     GSD</td>\n",
       "      <td>               Sales. Insight. Action.</td>\n",
       "      <td> 3</td>\n",
       "      <td> Enable sales to access/use marketing emails an...</td>\n",
       "    </tr>\n",
       "    <tr>\n",
       "      <th>25</th>\n",
       "      <td> 25</td>\n",
       "      <td> NaN</td>\n",
       "      <td> NaN</td>\n",
       "      <td> NaN</td>\n",
       "      <td>  BOS-Blue</td>\n",
       "      <td> inno10</td>\n",
       "      <td> NaN</td>\n",
       "      <td>                   Boston</td>\n",
       "      <td> [Eric Mischel,  Joe Procacci,  Keri Medeiros, ...</td>\n",
       "      <td> TBD</td>\n",
       "      <td>     GSD</td>\n",
       "      <td>                              Sherlock</td>\n",
       "      <td> 5</td>\n",
       "      <td> Improve Creative Search so you can search on p...</td>\n",
       "    </tr>\n",
       "    <tr>\n",
       "      <th>26</th>\n",
       "      <td> 26</td>\n",
       "      <td> NaN</td>\n",
       "      <td> NaN</td>\n",
       "      <td> NaN</td>\n",
       "      <td>   US-West</td>\n",
       "      <td> inno10</td>\n",
       "      <td> NaN</td>\n",
       "      <td>            San Francisco</td>\n",
       "      <td> [Anjalee Vasvani,  Erica Yim,  Melinda Tran,  ...</td>\n",
       "      <td> TBD</td>\n",
       "      <td> Classic</td>\n",
       "      <td>                  The Alpha Impression</td>\n",
       "      <td> 4</td>\n",
       "      <td> Make a first impression on potential candidate...</td>\n",
       "    </tr>\n",
       "    <tr>\n",
       "      <th>27</th>\n",
       "      <td> 27</td>\n",
       "      <td> NaN</td>\n",
       "      <td> NaN</td>\n",
       "      <td> NaN</td>\n",
       "      <td>   BOS-Red</td>\n",
       "      <td> inno10</td>\n",
       "      <td> NaN</td>\n",
       "      <td>                   Boston</td>\n",
       "      <td> [Stephanie Cheung,  Tom Lehmann,  Mark Ferrand...</td>\n",
       "      <td> TBD</td>\n",
       "      <td> Classic</td>\n",
       "      <td>                            The Clicks</td>\n",
       "      <td> 5</td>\n",
       "      <td> A Marketplace where you can sell/purchase item...</td>\n",
       "    </tr>\n",
       "    <tr>\n",
       "      <th>28</th>\n",
       "      <td> 28</td>\n",
       "      <td> NaN</td>\n",
       "      <td> NaN</td>\n",
       "      <td> NaN</td>\n",
       "      <td> BOS-Green</td>\n",
       "      <td> inno10</td>\n",
       "      <td> NaN</td>\n",
       "      <td>          Boston (remote)</td>\n",
       "      <td> [Peter Buckley,  Tyler Kirane,  Matt Ferrante,...</td>\n",
       "      <td> TBD</td>\n",
       "      <td>     GSD</td>\n",
       "      <td>                      Valar Occurremus</td>\n",
       "      <td> 5</td>\n",
       "      <td> Create an interactive app/map that allows Bost...</td>\n",
       "    </tr>\n",
       "    <tr>\n",
       "      <th>29</th>\n",
       "      <td> 29</td>\n",
       "      <td> NaN</td>\n",
       "      <td> NaN</td>\n",
       "      <td> NaN</td>\n",
       "      <td>   US-West</td>\n",
       "      <td> inno10</td>\n",
       "      <td> NaN</td>\n",
       "      <td>  Braavos (San Francisco)</td>\n",
       "      <td> [Alex Crow,  Patri Freijo,  Melinda Tran,  Chr...</td>\n",
       "      <td> TBD</td>\n",
       "      <td> Classic</td>\n",
       "      <td>                    Vertical Knowledge</td>\n",
       "      <td> 5</td>\n",
       "      <td> Create a database for verticals that includes ...</td>\n",
       "    </tr>\n",
       "    <tr>\n",
       "      <th>30</th>\n",
       "      <td> 30</td>\n",
       "      <td> NaN</td>\n",
       "      <td> NaN</td>\n",
       "      <td> NaN</td>\n",
       "      <td>  BOS-Blue</td>\n",
       "      <td> inno10</td>\n",
       "      <td> NaN</td>\n",
       "      <td>                   Boston</td>\n",
       "      <td>                      [Oleg Lopatin,  Raj Hassani]</td>\n",
       "      <td> TBD</td>\n",
       "      <td> Classic</td>\n",
       "      <td>                                    ��</td>\n",
       "      <td> 2</td>\n",
       "      <td>    \"Like\" button and Social Networks integration.</td>\n",
       "    </tr>\n",
       "  </tbody>\n",
       "</table>\n",
       "</div>"
      ],
      "text/plain": [
       "    index Category (people, process, product) Judging Session Session  \\\n",
       "0       0                                 NaN             NaN     NaN   \n",
       "1       1                                 NaN             NaN     NaN   \n",
       "2       2                                 NaN             NaN     NaN   \n",
       "3       3                                 NaN             NaN     NaN   \n",
       "4       4                                 NaN             NaN     NaN   \n",
       "5       5                                 NaN             NaN     NaN   \n",
       "6       6                                 NaN             NaN     NaN   \n",
       "7       7                                 NaN             NaN     NaN   \n",
       "8       8                                 NaN             NaN     NaN   \n",
       "9       9                                 NaN             NaN     NaN   \n",
       "10     10                                 NaN             NaN     NaN   \n",
       "11     11                                 NaN             NaN     NaN   \n",
       "12     12                                 NaN             NaN     NaN   \n",
       "13     13                                 NaN             NaN     NaN   \n",
       "14     14                                 NaN             NaN     NaN   \n",
       "15     15                                 NaN             NaN     NaN   \n",
       "16     16                                 NaN             NaN     NaN   \n",
       "17     17                                 NaN             NaN     NaN   \n",
       "18     18                                 NaN             NaN     NaN   \n",
       "19     19                                 NaN             NaN     NaN   \n",
       "20     20                                 NaN             NaN     NaN   \n",
       "21     21                                 NaN             NaN     NaN   \n",
       "22     22                                 NaN             NaN     NaN   \n",
       "23     23                                 NaN             NaN     NaN   \n",
       "24     24                                 NaN             NaN     NaN   \n",
       "25     25                                 NaN             NaN     NaN   \n",
       "26     26                                 NaN             NaN     NaN   \n",
       "27     27                                 NaN             NaN     NaN   \n",
       "28     28                                 NaN             NaN     NaN   \n",
       "29     29                                 NaN             NaN     NaN   \n",
       "30     30                                 NaN             NaN     NaN   \n",
       "\n",
       "   Session Assignment innovation_day judging session (To be assigned)  \\\n",
       "0            BOS-Blue         inno10                              NaN   \n",
       "1            BOS-Blue         inno10                              NaN   \n",
       "2                APAC         inno10                              NaN   \n",
       "3             BOS-Red         inno10                              NaN   \n",
       "4           BOS-Green         inno10                              NaN   \n",
       "5             BOS-Red         inno10                              NaN   \n",
       "6                 NaN         inno10                              NaN   \n",
       "7                 NaN         inno10                              NaN   \n",
       "8           BOS-Green         inno10                              NaN   \n",
       "9             BOS-Red         inno10                              NaN   \n",
       "10            BOS-Red         inno10                              NaN   \n",
       "11                 ��         inno10                              NaN   \n",
       "12            BOS-Red         inno10                              NaN   \n",
       "13              EU/UK         inno10                              NaN   \n",
       "14              EU/UK         inno10                              NaN   \n",
       "15               APAC         inno10                              NaN   \n",
       "16          BOS-Green         inno10                              NaN   \n",
       "17           BOS-Blue         inno10                              NaN   \n",
       "18          BOS-Green         inno10                              NaN   \n",
       "19            BOS-Red         inno10                              NaN   \n",
       "20              EU/UK         inno10                              NaN   \n",
       "21                 ��         inno10                              NaN   \n",
       "22                 ��         inno10                              NaN   \n",
       "23               APAC         inno10                              NaN   \n",
       "24          BOS-Green         inno10                              NaN   \n",
       "25           BOS-Blue         inno10                              NaN   \n",
       "26            US-West         inno10                              NaN   \n",
       "27            BOS-Red         inno10                              NaN   \n",
       "28          BOS-Green         inno10                              NaN   \n",
       "29            US-West         inno10                              NaN   \n",
       "30           BOS-Blue         inno10                              NaN   \n",
       "\n",
       "                    location  \\\n",
       "0                     Boston   \n",
       "1                     Boston   \n",
       "2                  Bangalore   \n",
       "3                     Boston   \n",
       "4          Boston/Montevideo   \n",
       "5                     Boston   \n",
       "6                     Boston   \n",
       "7                    Chicago   \n",
       "8        Boston / Montevideo   \n",
       "9                     Boston   \n",
       "10                    Boston   \n",
       "11                    Boston   \n",
       "12                    Boston   \n",
       "13                    London   \n",
       "14                    London   \n",
       "15                 Singapore   \n",
       "16  Boston - executed Remote   \n",
       "17                    Boston   \n",
       "18                        ��   \n",
       "19                    Boston   \n",
       "20                   Cologne   \n",
       "21                    Boston   \n",
       "22                    Boston   \n",
       "23                 Bangalore   \n",
       "24                    Boston   \n",
       "25                    Boston   \n",
       "26             San Francisco   \n",
       "27                    Boston   \n",
       "28           Boston (remote)   \n",
       "29   Braavos (San Francisco)   \n",
       "30                    Boston   \n",
       "\n",
       "                                              members place    style  \\\n",
       "0   [Imran Malek,  Jeff Rabe,  Aadil Maniar,  Gar ...   TBD  Classic   \n",
       "1           [Ryan Carey. Louiza Ogbue Leonard Steele]   TBD      GSD   \n",
       "2   [Ramesh Raithatha, Vineeti Louis, Shruthi Appu...   TBD  Classic   \n",
       "3   [Narin Nhem ,  GR Vishwanath ,  Molly Heller ,...   TBD      GSD   \n",
       "4   [Snejana Shegheva,  Santiago Carrera,  Victori...   TBD  Classic   \n",
       "5   [Joe Procacci,  John Skolfield,  Matt Womer,  ...   TBD      GSD   \n",
       "6   [Tom Rue,  Looking for all sorts of help! Leon...   TBD      GSD   \n",
       "7   [Bob Brazys is looking for a team - needs: Opt...   TBD      GSD   \n",
       "8   [Kim Marchand,  M��ximo Gurm̩ndez,  Martin Bom...   TBD  Classic   \n",
       "9   [Saket Mengle,  Amit Phansalkar,  Ted Vlachos,...   TBD  Classic   \n",
       "10  [Emilio Lapiello,  Michael Hall,  Josh Begleit...   TBD      GSD   \n",
       "11        [Corey Christous,  Dan Lui,  Zhuoming Tang]   TBD  Classic   \n",
       "12  [Amelio Vazquez-Reina,  Dan Caddigan,  Beth Lo...   TBD      GSD   \n",
       "13      [Hui Li,  Alessio Gastaldo,  Catia Silvestre]   TBD  Classic   \n",
       "14                     [Berit Block Christel Persson]   TBD  Classic   \n",
       "15                    [Kenneth Karunia, Nazree Bakar]   TBD  Classic   \n",
       "16                 [Celia Courtright,  Anthony White]   TBD       ��   \n",
       "17                   [Bill Mepham. Partners welcome.]   TBD  Classic   \n",
       "18                                     [Michael Oort]   TBD  Classic   \n",
       "19  [Eric Mischel,  Joe Procacci,  Keri Medeiros, ...   TBD      GSD   \n",
       "20                       [Sascha Becker,  Arno H̦fer]   TBD  Classic   \n",
       "21  [Rich Dallojacono,  Eric Speck,  Manjula Kanda...   TBD      GSD   \n",
       "22                                          [Tom Rue]   TBD      GSD   \n",
       "23  [Rohit Bhattacharjee, Amit Pal, Ravi Agarwal, ...   TBD  Classic   \n",
       "24            [Andrew Dudevoir,  Dan Reis,  Lynn Tan]   TBD      GSD   \n",
       "25  [Eric Mischel,  Joe Procacci,  Keri Medeiros, ...   TBD      GSD   \n",
       "26  [Anjalee Vasvani,  Erica Yim,  Melinda Tran,  ...   TBD  Classic   \n",
       "27  [Stephanie Cheung,  Tom Lehmann,  Mark Ferrand...   TBD  Classic   \n",
       "28  [Peter Buckley,  Tyler Kirane,  Matt Ferrante,...   TBD      GSD   \n",
       "29  [Alex Crow,  Patri Freijo,  Melinda Tran,  Chr...   TBD  Classic   \n",
       "30                       [Oleg Lopatin,  Raj Hassani]   TBD  Classic   \n",
       "\n",
       "                                team_name  team_size  \\\n",
       "0                                 B2Beast          6   \n",
       "1                                Cloud DB          1   \n",
       "2                                   Couch          4   \n",
       "3                        Daily Delta Data          4   \n",
       "4                                 Delphos          4   \n",
       "5                               Doctor Xu          6   \n",
       "6                        Drag and Drop UI          2   \n",
       "7              Drive It Like You Stole It          3   \n",
       "8                             DX Co-Pilot          5   \n",
       "9                              DXPolitics          5   \n",
       "10                         Easy Analytics          5   \n",
       "11                            ELK for CMS          3   \n",
       "12                      Eternal Optimists          5   \n",
       "13                               FairPlay          3   \n",
       "14                               Hello UI          1   \n",
       "15                            IP Expander          2   \n",
       "16                          JIRA Planning          2   \n",
       "17  Mythical Man Month Mathematical Model          1   \n",
       "18                   Native Open Creative          1   \n",
       "19                                Octopus          4   \n",
       "20               Omnichannel DCO Solution          2   \n",
       "21                   Rate Cards, Finally!          5   \n",
       "22         Retargeting Performance Alerts          1   \n",
       "23                                 Rocket          4   \n",
       "24                Sales. Insight. Action.          3   \n",
       "25                               Sherlock          5   \n",
       "26                   The Alpha Impression          4   \n",
       "27                             The Clicks          5   \n",
       "28                       Valar Occurremus          5   \n",
       "29                     Vertical Knowledge          5   \n",
       "30                                     ��          2   \n",
       "\n",
       "                                                topic  \n",
       "0              Enhanced solution for B2B/IP targeting  \n",
       "1   Create a multi-node greenplum cluster in AWS. ...  \n",
       "2                Running��Virtual��test��lab��locally  \n",
       "3   Gather history of daily delta check and store ...  \n",
       "4   As DataXu grows, we need to be able to scale l...  \n",
       "5   Tool suite to test, audit, and fix creative ta...  \n",
       "6   Create a web based graphical user interface th...  \n",
       "7   Create \"ASAP Rate Controller\" access in the UI...  \n",
       "8   Flight insights and recommendations right on t...  \n",
       "9   Create segments of users based on their politi...  \n",
       "10                    Automated, self-serve analytics  \n",
       "11  Set up Elasticsearch, Logstash, and Kibana for...  \n",
       "12  Let's automate suggesting and applying key opt...  \n",
       "13  Cooperative and Multi-Objective: Solution for ...  \n",
       "14  Let's use our platform/ UI to communicate with...  \n",
       "15  Simple IP address printing program with pseudo...  \n",
       "16  Build a new UI for planning in JIRA to support...  \n",
       "17  Illustration of the challenges in efficiency t...  \n",
       "18  Running native creative ads on mobile devices ...  \n",
       "19  Bulk Modify Creatives. Save Time! Make People ...  \n",
       "20  Easy and fast DCO solution directly in UI with...  \n",
       "21                     Rate Cards available in the UI  \n",
       "22  Alerts that are sent when retargeting performa...  \n",
       "23  Pub/Sub Model for Async Communications among s...  \n",
       "24  Enable sales to access/use marketing emails an...  \n",
       "25  Improve Creative Search so you can search on p...  \n",
       "26  Make a first impression on potential candidate...  \n",
       "27  A Marketplace where you can sell/purchase item...  \n",
       "28  Create an interactive app/map that allows Bost...  \n",
       "29  Create a database for verticals that includes ...  \n",
       "30     \"Like\" button and Social Networks integration.  "
      ]
     },
     "execution_count": 21,
     "metadata": {},
     "output_type": "execute_result"
    }
   ],
   "source": [
    "tst_df"
   ]
  },
  {
   "cell_type": "code",
   "execution_count": 8,
   "metadata": {
    "collapsed": false
   },
   "outputs": [
    {
     "data": {
      "text/plain": [
       "KNeighborsClassifier(algorithm='auto', leaf_size=30, metric='minkowski',\n",
       "           metric_params=None, n_neighbors=5, p=2, weights='uniform')"
      ]
     },
     "execution_count": 8,
     "metadata": {},
     "output_type": "execute_result"
    }
   ],
   "source": [
    "from sklearn import neighbors\n",
    "clf = neighbors.KNeighborsClassifier(n_neighbors=5)\n",
    "clf.fit(trn_features, trn_label)"
   ]
  },
  {
   "cell_type": "code",
   "execution_count": 20,
   "metadata": {
    "collapsed": false
   },
   "outputs": [
    {
     "ename": "ValueError",
     "evalue": "Incompatible dimension for X and Y matrices: X.shape[1] == 93 while Y.shape[1] == 498",
     "output_type": "error",
     "traceback": [
      "\u001b[0;31m---------------------------------------------------------------------------\u001b[0m",
      "\u001b[0;31mValueError\u001b[0m                                Traceback (most recent call last)",
      "\u001b[0;32m<ipython-input-20-de2ac34e4d8c>\u001b[0m in \u001b[0;36m<module>\u001b[0;34m()\u001b[0m\n\u001b[0;32m----> 1\u001b[0;31m \u001b[0mpred\u001b[0m \u001b[0;34m=\u001b[0m \u001b[0mclf\u001b[0m\u001b[0;34m.\u001b[0m\u001b[0mpredict\u001b[0m\u001b[0;34m(\u001b[0m\u001b[0mtst_features\u001b[0m\u001b[0;34m)\u001b[0m\u001b[0;34m\u001b[0m\u001b[0m\n\u001b[0m",
      "\u001b[0;32m/Users/sshegheva/anaconda/lib/python2.7/site-packages/sklearn/neighbors/classification.pyc\u001b[0m in \u001b[0;36mpredict\u001b[0;34m(self, X)\u001b[0m\n\u001b[1;32m    136\u001b[0m         \u001b[0mX\u001b[0m \u001b[0;34m=\u001b[0m \u001b[0mcheck_array\u001b[0m\u001b[0;34m(\u001b[0m\u001b[0mX\u001b[0m\u001b[0;34m,\u001b[0m \u001b[0maccept_sparse\u001b[0m\u001b[0;34m=\u001b[0m\u001b[0;34m'csr'\u001b[0m\u001b[0;34m)\u001b[0m\u001b[0;34m\u001b[0m\u001b[0m\n\u001b[1;32m    137\u001b[0m \u001b[0;34m\u001b[0m\u001b[0m\n\u001b[0;32m--> 138\u001b[0;31m         \u001b[0mneigh_dist\u001b[0m\u001b[0;34m,\u001b[0m \u001b[0mneigh_ind\u001b[0m \u001b[0;34m=\u001b[0m \u001b[0mself\u001b[0m\u001b[0;34m.\u001b[0m\u001b[0mkneighbors\u001b[0m\u001b[0;34m(\u001b[0m\u001b[0mX\u001b[0m\u001b[0;34m)\u001b[0m\u001b[0;34m\u001b[0m\u001b[0m\n\u001b[0m\u001b[1;32m    139\u001b[0m \u001b[0;34m\u001b[0m\u001b[0m\n\u001b[1;32m    140\u001b[0m         \u001b[0mclasses_\u001b[0m \u001b[0;34m=\u001b[0m \u001b[0mself\u001b[0m\u001b[0;34m.\u001b[0m\u001b[0mclasses_\u001b[0m\u001b[0;34m\u001b[0m\u001b[0m\n",
      "\u001b[0;32m/Users/sshegheva/anaconda/lib/python2.7/site-packages/sklearn/neighbors/base.pyc\u001b[0m in \u001b[0;36mkneighbors\u001b[0;34m(self, X, n_neighbors, return_distance)\u001b[0m\n\u001b[1;32m    346\u001b[0m             \u001b[0;32mif\u001b[0m \u001b[0mself\u001b[0m\u001b[0;34m.\u001b[0m\u001b[0meffective_metric_\u001b[0m \u001b[0;34m==\u001b[0m \u001b[0;34m'euclidean'\u001b[0m\u001b[0;34m:\u001b[0m\u001b[0;34m\u001b[0m\u001b[0m\n\u001b[1;32m    347\u001b[0m                 dist = pairwise_distances(X, self._fit_X, 'euclidean',\n\u001b[0;32m--> 348\u001b[0;31m                                           squared=True)\n\u001b[0m\u001b[1;32m    349\u001b[0m             \u001b[0;32melse\u001b[0m\u001b[0;34m:\u001b[0m\u001b[0;34m\u001b[0m\u001b[0m\n\u001b[1;32m    350\u001b[0m                 dist = pairwise_distances(X, self._fit_X,\n",
      "\u001b[0;32m/Users/sshegheva/anaconda/lib/python2.7/site-packages/sklearn/metrics/pairwise.pyc\u001b[0m in \u001b[0;36mpairwise_distances\u001b[0;34m(X, Y, metric, n_jobs, **kwds)\u001b[0m\n\u001b[1;32m   1108\u001b[0m         \u001b[0mfunc\u001b[0m \u001b[0;34m=\u001b[0m \u001b[0mpartial\u001b[0m\u001b[0;34m(\u001b[0m\u001b[0mdistance\u001b[0m\u001b[0;34m.\u001b[0m\u001b[0mcdist\u001b[0m\u001b[0;34m,\u001b[0m \u001b[0mmetric\u001b[0m\u001b[0;34m=\u001b[0m\u001b[0mmetric\u001b[0m\u001b[0;34m,\u001b[0m \u001b[0;34m**\u001b[0m\u001b[0mkwds\u001b[0m\u001b[0;34m)\u001b[0m\u001b[0;34m\u001b[0m\u001b[0m\n\u001b[1;32m   1109\u001b[0m \u001b[0;34m\u001b[0m\u001b[0m\n\u001b[0;32m-> 1110\u001b[0;31m     \u001b[0;32mreturn\u001b[0m \u001b[0m_parallel_pairwise\u001b[0m\u001b[0;34m(\u001b[0m\u001b[0mX\u001b[0m\u001b[0;34m,\u001b[0m \u001b[0mY\u001b[0m\u001b[0;34m,\u001b[0m \u001b[0mfunc\u001b[0m\u001b[0;34m,\u001b[0m \u001b[0mn_jobs\u001b[0m\u001b[0;34m,\u001b[0m \u001b[0;34m**\u001b[0m\u001b[0mkwds\u001b[0m\u001b[0;34m)\u001b[0m\u001b[0;34m\u001b[0m\u001b[0m\n\u001b[0m\u001b[1;32m   1111\u001b[0m \u001b[0;34m\u001b[0m\u001b[0m\n\u001b[1;32m   1112\u001b[0m \u001b[0;34m\u001b[0m\u001b[0m\n",
      "\u001b[0;32m/Users/sshegheva/anaconda/lib/python2.7/site-packages/sklearn/metrics/pairwise.pyc\u001b[0m in \u001b[0;36m_parallel_pairwise\u001b[0;34m(X, Y, func, n_jobs, **kwds)\u001b[0m\n\u001b[1;32m    958\u001b[0m     \u001b[0;32mif\u001b[0m \u001b[0mn_jobs\u001b[0m \u001b[0;34m==\u001b[0m \u001b[0;36m1\u001b[0m\u001b[0;34m:\u001b[0m\u001b[0;34m\u001b[0m\u001b[0m\n\u001b[1;32m    959\u001b[0m         \u001b[0;31m# Special case to avoid picklability checks in delayed\u001b[0m\u001b[0;34m\u001b[0m\u001b[0;34m\u001b[0m\u001b[0m\n\u001b[0;32m--> 960\u001b[0;31m         \u001b[0;32mreturn\u001b[0m \u001b[0mfunc\u001b[0m\u001b[0;34m(\u001b[0m\u001b[0mX\u001b[0m\u001b[0;34m,\u001b[0m \u001b[0mY\u001b[0m\u001b[0;34m,\u001b[0m \u001b[0;34m**\u001b[0m\u001b[0mkwds\u001b[0m\u001b[0;34m)\u001b[0m\u001b[0;34m\u001b[0m\u001b[0m\n\u001b[0m\u001b[1;32m    961\u001b[0m \u001b[0;34m\u001b[0m\u001b[0m\n\u001b[1;32m    962\u001b[0m     \u001b[0;31m# TODO: in some cases, backend='threading' may be appropriate\u001b[0m\u001b[0;34m\u001b[0m\u001b[0;34m\u001b[0m\u001b[0m\n",
      "\u001b[0;32m/Users/sshegheva/anaconda/lib/python2.7/site-packages/sklearn/metrics/pairwise.pyc\u001b[0m in \u001b[0;36meuclidean_distances\u001b[0;34m(X, Y, Y_norm_squared, squared)\u001b[0m\n\u001b[1;32m    190\u001b[0m     \u001b[0;31m# well as Y, then you should just pre-compute the output and not even\u001b[0m\u001b[0;34m\u001b[0m\u001b[0;34m\u001b[0m\u001b[0m\n\u001b[1;32m    191\u001b[0m     \u001b[0;31m# call this function.\u001b[0m\u001b[0;34m\u001b[0m\u001b[0;34m\u001b[0m\u001b[0m\n\u001b[0;32m--> 192\u001b[0;31m     \u001b[0mX\u001b[0m\u001b[0;34m,\u001b[0m \u001b[0mY\u001b[0m \u001b[0;34m=\u001b[0m \u001b[0mcheck_pairwise_arrays\u001b[0m\u001b[0;34m(\u001b[0m\u001b[0mX\u001b[0m\u001b[0;34m,\u001b[0m \u001b[0mY\u001b[0m\u001b[0;34m)\u001b[0m\u001b[0;34m\u001b[0m\u001b[0m\n\u001b[0m\u001b[1;32m    193\u001b[0m \u001b[0;34m\u001b[0m\u001b[0m\n\u001b[1;32m    194\u001b[0m     \u001b[0;32mif\u001b[0m \u001b[0mY_norm_squared\u001b[0m \u001b[0;32mis\u001b[0m \u001b[0;32mnot\u001b[0m \u001b[0mNone\u001b[0m\u001b[0;34m:\u001b[0m\u001b[0;34m\u001b[0m\u001b[0m\n",
      "\u001b[0;32m/Users/sshegheva/anaconda/lib/python2.7/site-packages/sklearn/metrics/pairwise.pyc\u001b[0m in \u001b[0;36mcheck_pairwise_arrays\u001b[0;34m(X, Y)\u001b[0m\n\u001b[1;32m     94\u001b[0m         raise ValueError(\"Incompatible dimension for X and Y matrices: \"\n\u001b[1;32m     95\u001b[0m                          \"X.shape[1] == %d while Y.shape[1] == %d\" % (\n\u001b[0;32m---> 96\u001b[0;31m                              X.shape[1], Y.shape[1]))\n\u001b[0m\u001b[1;32m     97\u001b[0m \u001b[0;34m\u001b[0m\u001b[0m\n\u001b[1;32m     98\u001b[0m     \u001b[0;32mreturn\u001b[0m \u001b[0mX\u001b[0m\u001b[0;34m,\u001b[0m \u001b[0mY\u001b[0m\u001b[0;34m\u001b[0m\u001b[0m\n",
      "\u001b[0;31mValueError\u001b[0m: Incompatible dimension for X and Y matrices: X.shape[1] == 93 while Y.shape[1] == 498"
     ]
    }
   ],
   "source": [
    "pred = clf.predict(tst_features)"
   ]
  },
  {
   "cell_type": "code",
   "execution_count": 16,
   "metadata": {
    "collapsed": false
   },
   "outputs": [
    {
     "data": {
      "text/plain": [
       "224"
      ]
     },
     "execution_count": 16,
     "metadata": {},
     "output_type": "execute_result"
    }
   ],
   "source": [
    "len(pred)"
   ]
  },
  {
   "cell_type": "code",
   "execution_count": 18,
   "metadata": {
    "collapsed": false
   },
   "outputs": [
    {
     "ename": "TypeError",
     "evalue": "sparse matrix length is ambiguous; use getnnz() or shape[0]",
     "output_type": "error",
     "traceback": [
      "\u001b[0;31m---------------------------------------------------------------------------\u001b[0m",
      "\u001b[0;31mTypeError\u001b[0m                                 Traceback (most recent call last)",
      "\u001b[0;32m<ipython-input-18-1669e4c9a59b>\u001b[0m in \u001b[0;36m<module>\u001b[0;34m()\u001b[0m\n\u001b[0;32m----> 1\u001b[0;31m \u001b[0mlen\u001b[0m\u001b[0;34m(\u001b[0m\u001b[0mtst_features\u001b[0m\u001b[0;34m)\u001b[0m\u001b[0;34m\u001b[0m\u001b[0m\n\u001b[0m",
      "\u001b[0;32m/Users/sshegheva/anaconda/lib/python2.7/site-packages/scipy/sparse/base.pyc\u001b[0m in \u001b[0;36m__len__\u001b[0;34m(self)\u001b[0m\n\u001b[1;32m    190\u001b[0m     \u001b[0;32mdef\u001b[0m \u001b[0m__len__\u001b[0m\u001b[0;34m(\u001b[0m\u001b[0mself\u001b[0m\u001b[0;34m)\u001b[0m\u001b[0;34m:\u001b[0m\u001b[0;34m\u001b[0m\u001b[0m\n\u001b[1;32m    191\u001b[0m         \u001b[0;31m# return self.getnnz()\u001b[0m\u001b[0;34m\u001b[0m\u001b[0;34m\u001b[0m\u001b[0m\n\u001b[0;32m--> 192\u001b[0;31m         raise TypeError(\"sparse matrix length is ambiguous; use getnnz()\"\n\u001b[0m\u001b[1;32m    193\u001b[0m                          \" or shape[0]\")\n\u001b[1;32m    194\u001b[0m \u001b[0;34m\u001b[0m\u001b[0m\n",
      "\u001b[0;31mTypeError\u001b[0m: sparse matrix length is ambiguous; use getnnz() or shape[0]"
     ]
    }
   ],
   "source": []
  },
  {
   "cell_type": "code",
   "execution_count": 15,
   "metadata": {
    "collapsed": false
   },
   "outputs": [
    {
     "ename": "ValueError",
     "evalue": "Length of values does not match length of index",
     "output_type": "error",
     "traceback": [
      "\u001b[0;31m---------------------------------------------------------------------------\u001b[0m",
      "\u001b[0;31mValueError\u001b[0m                                Traceback (most recent call last)",
      "\u001b[0;32m<ipython-input-15-2e6357d72702>\u001b[0m in \u001b[0;36m<module>\u001b[0;34m()\u001b[0m\n\u001b[0;32m----> 1\u001b[0;31m \u001b[0mtst_df\u001b[0m\u001b[0;34m[\u001b[0m\u001b[0;34m'pred'\u001b[0m\u001b[0;34m]\u001b[0m \u001b[0;34m=\u001b[0m \u001b[0mpred\u001b[0m\u001b[0;34m\u001b[0m\u001b[0m\n\u001b[0m",
      "\u001b[0;32m/Users/sshegheva/anaconda/lib/python2.7/site-packages/pandas-0.14.0-py2.7-macosx-10.5-x86_64.egg/pandas/core/frame.pyc\u001b[0m in \u001b[0;36m__setitem__\u001b[0;34m(self, key, value)\u001b[0m\n\u001b[1;32m   1899\u001b[0m         \u001b[0;32melse\u001b[0m\u001b[0;34m:\u001b[0m\u001b[0;34m\u001b[0m\u001b[0m\n\u001b[1;32m   1900\u001b[0m             \u001b[0;31m# set column\u001b[0m\u001b[0;34m\u001b[0m\u001b[0;34m\u001b[0m\u001b[0m\n\u001b[0;32m-> 1901\u001b[0;31m             \u001b[0mself\u001b[0m\u001b[0;34m.\u001b[0m\u001b[0m_set_item\u001b[0m\u001b[0;34m(\u001b[0m\u001b[0mkey\u001b[0m\u001b[0;34m,\u001b[0m \u001b[0mvalue\u001b[0m\u001b[0;34m)\u001b[0m\u001b[0;34m\u001b[0m\u001b[0m\n\u001b[0m\u001b[1;32m   1902\u001b[0m \u001b[0;34m\u001b[0m\u001b[0m\n\u001b[1;32m   1903\u001b[0m     \u001b[0;32mdef\u001b[0m \u001b[0m_setitem_slice\u001b[0m\u001b[0;34m(\u001b[0m\u001b[0mself\u001b[0m\u001b[0;34m,\u001b[0m \u001b[0mkey\u001b[0m\u001b[0;34m,\u001b[0m \u001b[0mvalue\u001b[0m\u001b[0;34m)\u001b[0m\u001b[0;34m:\u001b[0m\u001b[0;34m\u001b[0m\u001b[0m\n",
      "\u001b[0;32m/Users/sshegheva/anaconda/lib/python2.7/site-packages/pandas-0.14.0-py2.7-macosx-10.5-x86_64.egg/pandas/core/frame.pyc\u001b[0m in \u001b[0;36m_set_item\u001b[0;34m(self, key, value)\u001b[0m\n\u001b[1;32m   1981\u001b[0m         \u001b[0mis_existing\u001b[0m \u001b[0;34m=\u001b[0m \u001b[0mkey\u001b[0m \u001b[0;32min\u001b[0m \u001b[0mself\u001b[0m\u001b[0;34m.\u001b[0m\u001b[0mcolumns\u001b[0m\u001b[0;34m\u001b[0m\u001b[0m\n\u001b[1;32m   1982\u001b[0m         \u001b[0mself\u001b[0m\u001b[0;34m.\u001b[0m\u001b[0m_ensure_valid_index\u001b[0m\u001b[0;34m(\u001b[0m\u001b[0mvalue\u001b[0m\u001b[0;34m)\u001b[0m\u001b[0;34m\u001b[0m\u001b[0m\n\u001b[0;32m-> 1983\u001b[0;31m         \u001b[0mvalue\u001b[0m \u001b[0;34m=\u001b[0m \u001b[0mself\u001b[0m\u001b[0;34m.\u001b[0m\u001b[0m_sanitize_column\u001b[0m\u001b[0;34m(\u001b[0m\u001b[0mkey\u001b[0m\u001b[0;34m,\u001b[0m \u001b[0mvalue\u001b[0m\u001b[0;34m)\u001b[0m\u001b[0;34m\u001b[0m\u001b[0m\n\u001b[0m\u001b[1;32m   1984\u001b[0m         \u001b[0mNDFrame\u001b[0m\u001b[0;34m.\u001b[0m\u001b[0m_set_item\u001b[0m\u001b[0;34m(\u001b[0m\u001b[0mself\u001b[0m\u001b[0;34m,\u001b[0m \u001b[0mkey\u001b[0m\u001b[0;34m,\u001b[0m \u001b[0mvalue\u001b[0m\u001b[0;34m)\u001b[0m\u001b[0;34m\u001b[0m\u001b[0m\n\u001b[1;32m   1985\u001b[0m \u001b[0;34m\u001b[0m\u001b[0m\n",
      "\u001b[0;32m/Users/sshegheva/anaconda/lib/python2.7/site-packages/pandas-0.14.0-py2.7-macosx-10.5-x86_64.egg/pandas/core/frame.pyc\u001b[0m in \u001b[0;36m_sanitize_column\u001b[0;34m(self, key, value)\u001b[0m\n\u001b[1;32m   2031\u001b[0m         \u001b[0;32melif\u001b[0m \u001b[0misinstance\u001b[0m\u001b[0;34m(\u001b[0m\u001b[0mvalue\u001b[0m\u001b[0;34m,\u001b[0m \u001b[0mIndex\u001b[0m\u001b[0;34m)\u001b[0m \u001b[0;32mor\u001b[0m \u001b[0m_is_sequence\u001b[0m\u001b[0;34m(\u001b[0m\u001b[0mvalue\u001b[0m\u001b[0;34m)\u001b[0m\u001b[0;34m:\u001b[0m\u001b[0;34m\u001b[0m\u001b[0m\n\u001b[1;32m   2032\u001b[0m             \u001b[0;32mif\u001b[0m \u001b[0mlen\u001b[0m\u001b[0;34m(\u001b[0m\u001b[0mvalue\u001b[0m\u001b[0;34m)\u001b[0m \u001b[0;34m!=\u001b[0m \u001b[0mlen\u001b[0m\u001b[0;34m(\u001b[0m\u001b[0mself\u001b[0m\u001b[0;34m.\u001b[0m\u001b[0mindex\u001b[0m\u001b[0;34m)\u001b[0m\u001b[0;34m:\u001b[0m\u001b[0;34m\u001b[0m\u001b[0m\n\u001b[0;32m-> 2033\u001b[0;31m                 raise ValueError('Length of values does not match length of '\n\u001b[0m\u001b[1;32m   2034\u001b[0m                                  'index')\n\u001b[1;32m   2035\u001b[0m \u001b[0;34m\u001b[0m\u001b[0m\n",
      "\u001b[0;31mValueError\u001b[0m: Length of values does not match length of index"
     ]
    }
   ],
   "source": [
    "tst_df['pred'] = pred"
   ]
  },
  {
   "cell_type": "code",
   "execution_count": 11,
   "metadata": {
    "collapsed": false
   },
   "outputs": [],
   "source": [
    "from sklearn.feature_extraction import DictVectorizer\n",
    "df = inno_frame\n",
    "df.drop('members', axis=1, inplace=True)\n",
    "index = df.index.tolist()\n",
    "d = [df.loc[i].to_dict() for i in index]\n",
    "vec = DictVectorizer()\n",
    "transformed = vec.fit_transform(d)\n",
    "#print d"
   ]
  },
  {
   "cell_type": "code",
   "execution_count": 12,
   "metadata": {
    "collapsed": true
   },
   "outputs": [],
   "source": [
    "f = 'data/innovations/inno9.csv'"
   ]
  },
  {
   "cell_type": "code",
   "execution_count": 13,
   "metadata": {
    "collapsed": false
   },
   "outputs": [],
   "source": [
    "df = pd.read_csv('data/innovations/inno9.csv')"
   ]
  },
  {
   "cell_type": "code",
   "execution_count": 14,
   "metadata": {
    "collapsed": false
   },
   "outputs": [
    {
     "data": {
      "text/plain": [
       "Index([u'Place', u'Team Name', u'Project Home Base (NYC, Bos, Germany, etc.)', u'Classic or GSD?', u'Session', u'Quick Description of the project (for recruiting others!)', u'Team Members (no more than 5!)'], dtype='object')"
      ]
     },
     "execution_count": 14,
     "metadata": {},
     "output_type": "execute_result"
    }
   ],
   "source": [
    "df.columns"
   ]
  },
  {
   "cell_type": "code",
   "execution_count": 15,
   "metadata": {
    "collapsed": false
   },
   "outputs": [
    {
     "name": "stderr",
     "output_type": "stream",
     "text": [
      "DEBUG:delphos.finalist_predictor.feature_transform:Parsing data/innovations/inno9.csv\n",
      "DEBUG:delphos.finalist_predictor.feature_transform:Parsed data/innovations/inno9.csv\n"
     ]
    }
   ],
   "source": [
    "fe = feature_transform.FeatureExtractor(f, debug=True)"
   ]
  },
  {
   "cell_type": "code",
   "execution_count": 16,
   "metadata": {
    "collapsed": false
   },
   "outputs": [
    {
     "ename": "KeyError",
     "evalue": "'the label [Sour Patch Krew] is not in the [index]'",
     "output_type": "error",
     "traceback": [
      "\u001b[0;31m---------------------------------------------------------------------------\u001b[0m",
      "\u001b[0;31mKeyError\u001b[0m                                  Traceback (most recent call last)",
      "\u001b[0;32m<ipython-input-16-16a741e69797>\u001b[0m in \u001b[0;36m<module>\u001b[0;34m()\u001b[0m\n\u001b[0;32m----> 1\u001b[0;31m \u001b[0mfe\u001b[0m\u001b[0;34m.\u001b[0m\u001b[0mdf\u001b[0m\u001b[0;34m.\u001b[0m\u001b[0mmembers\u001b[0m\u001b[0;34m.\u001b[0m\u001b[0mloc\u001b[0m\u001b[0;34m[\u001b[0m\u001b[0;34m'Sour Patch Krew'\u001b[0m\u001b[0;34m]\u001b[0m\u001b[0;34m\u001b[0m\u001b[0m\n\u001b[0m",
      "\u001b[0;32m/Users/sshegheva/anaconda/lib/python2.7/site-packages/pandas-0.14.0-py2.7-macosx-10.5-x86_64.egg/pandas/core/indexing.pyc\u001b[0m in \u001b[0;36m__getitem__\u001b[0;34m(self, key)\u001b[0m\n\u001b[1;32m   1127\u001b[0m             \u001b[0;32mreturn\u001b[0m \u001b[0mself\u001b[0m\u001b[0;34m.\u001b[0m\u001b[0m_getitem_tuple\u001b[0m\u001b[0;34m(\u001b[0m\u001b[0mkey\u001b[0m\u001b[0;34m)\u001b[0m\u001b[0;34m\u001b[0m\u001b[0m\n\u001b[1;32m   1128\u001b[0m         \u001b[0;32melse\u001b[0m\u001b[0;34m:\u001b[0m\u001b[0;34m\u001b[0m\u001b[0m\n\u001b[0;32m-> 1129\u001b[0;31m             \u001b[0;32mreturn\u001b[0m \u001b[0mself\u001b[0m\u001b[0;34m.\u001b[0m\u001b[0m_getitem_axis\u001b[0m\u001b[0;34m(\u001b[0m\u001b[0mkey\u001b[0m\u001b[0;34m,\u001b[0m \u001b[0maxis\u001b[0m\u001b[0;34m=\u001b[0m\u001b[0;36m0\u001b[0m\u001b[0;34m)\u001b[0m\u001b[0;34m\u001b[0m\u001b[0m\n\u001b[0m\u001b[1;32m   1130\u001b[0m \u001b[0;34m\u001b[0m\u001b[0m\n\u001b[1;32m   1131\u001b[0m     \u001b[0;32mdef\u001b[0m \u001b[0m_getitem_axis\u001b[0m\u001b[0;34m(\u001b[0m\u001b[0mself\u001b[0m\u001b[0;34m,\u001b[0m \u001b[0mkey\u001b[0m\u001b[0;34m,\u001b[0m \u001b[0maxis\u001b[0m\u001b[0;34m=\u001b[0m\u001b[0;36m0\u001b[0m\u001b[0;34m,\u001b[0m \u001b[0mvalidate_iterable\u001b[0m\u001b[0;34m=\u001b[0m\u001b[0mFalse\u001b[0m\u001b[0;34m)\u001b[0m\u001b[0;34m:\u001b[0m\u001b[0;34m\u001b[0m\u001b[0m\n",
      "\u001b[0;32m/Users/sshegheva/anaconda/lib/python2.7/site-packages/pandas-0.14.0-py2.7-macosx-10.5-x86_64.egg/pandas/core/indexing.pyc\u001b[0m in \u001b[0;36m_getitem_axis\u001b[0;34m(self, key, axis, validate_iterable)\u001b[0m\n\u001b[1;32m   1259\u001b[0m             \u001b[0;32mreturn\u001b[0m \u001b[0mself\u001b[0m\u001b[0;34m.\u001b[0m\u001b[0mobj\u001b[0m\u001b[0;34m.\u001b[0m\u001b[0miloc\u001b[0m\u001b[0;34m[\u001b[0m\u001b[0mtuple\u001b[0m\u001b[0;34m(\u001b[0m\u001b[0mindexer\u001b[0m\u001b[0;34m)\u001b[0m\u001b[0;34m]\u001b[0m\u001b[0;34m\u001b[0m\u001b[0m\n\u001b[1;32m   1260\u001b[0m         \u001b[0;32melse\u001b[0m\u001b[0;34m:\u001b[0m\u001b[0;34m\u001b[0m\u001b[0m\n\u001b[0;32m-> 1261\u001b[0;31m             \u001b[0mself\u001b[0m\u001b[0;34m.\u001b[0m\u001b[0m_has_valid_type\u001b[0m\u001b[0;34m(\u001b[0m\u001b[0mkey\u001b[0m\u001b[0;34m,\u001b[0m \u001b[0maxis\u001b[0m\u001b[0;34m)\u001b[0m\u001b[0;34m\u001b[0m\u001b[0m\n\u001b[0m\u001b[1;32m   1262\u001b[0m             \u001b[0;32mreturn\u001b[0m \u001b[0mself\u001b[0m\u001b[0;34m.\u001b[0m\u001b[0m_get_label\u001b[0m\u001b[0;34m(\u001b[0m\u001b[0mkey\u001b[0m\u001b[0;34m,\u001b[0m \u001b[0maxis\u001b[0m\u001b[0;34m=\u001b[0m\u001b[0maxis\u001b[0m\u001b[0;34m)\u001b[0m\u001b[0;34m\u001b[0m\u001b[0m\n\u001b[1;32m   1263\u001b[0m \u001b[0;34m\u001b[0m\u001b[0m\n",
      "\u001b[0;32m/Users/sshegheva/anaconda/lib/python2.7/site-packages/pandas-0.14.0-py2.7-macosx-10.5-x86_64.egg/pandas/core/indexing.pyc\u001b[0m in \u001b[0;36m_has_valid_type\u001b[0;34m(self, key, axis)\u001b[0m\n\u001b[1;32m   1232\u001b[0m                 \u001b[0;32mraise\u001b[0m\u001b[0;34m\u001b[0m\u001b[0m\n\u001b[1;32m   1233\u001b[0m             \u001b[0;32mexcept\u001b[0m\u001b[0;34m:\u001b[0m\u001b[0;34m\u001b[0m\u001b[0m\n\u001b[0;32m-> 1234\u001b[0;31m                 \u001b[0merror\u001b[0m\u001b[0;34m(\u001b[0m\u001b[0;34m)\u001b[0m\u001b[0;34m\u001b[0m\u001b[0m\n\u001b[0m\u001b[1;32m   1235\u001b[0m \u001b[0;34m\u001b[0m\u001b[0m\n\u001b[1;32m   1236\u001b[0m         \u001b[0;32mreturn\u001b[0m \u001b[0mTrue\u001b[0m\u001b[0;34m\u001b[0m\u001b[0m\n",
      "\u001b[0;32m/Users/sshegheva/anaconda/lib/python2.7/site-packages/pandas-0.14.0-py2.7-macosx-10.5-x86_64.egg/pandas/core/indexing.pyc\u001b[0m in \u001b[0;36merror\u001b[0;34m()\u001b[0m\n\u001b[1;32m   1219\u001b[0m                         \"cannot use label indexing with a null key\")\n\u001b[1;32m   1220\u001b[0m                 raise KeyError(\"the label [%s] is not in the [%s]\" %\n\u001b[0;32m-> 1221\u001b[0;31m                                (key, self.obj._get_axis_name(axis)))\n\u001b[0m\u001b[1;32m   1222\u001b[0m \u001b[0;34m\u001b[0m\u001b[0m\n\u001b[1;32m   1223\u001b[0m             \u001b[0;32mtry\u001b[0m\u001b[0;34m:\u001b[0m\u001b[0;34m\u001b[0m\u001b[0m\n",
      "\u001b[0;31mKeyError\u001b[0m: 'the label [Sour Patch Krew] is not in the [index]'"
     ]
    }
   ],
   "source": [
    "fe.df.members.loc['Sour Patch Krew']"
   ]
  },
  {
   "cell_type": "code",
   "execution_count": null,
   "metadata": {
    "collapsed": false
   },
   "outputs": [],
   "source": [
    "fe.df.drop('members', inplace=True, axis=1)"
   ]
  },
  {
   "cell_type": "code",
   "execution_count": null,
   "metadata": {
    "collapsed": false
   },
   "outputs": [],
   "source": [
    "index = fe.df.index.tolist()\n",
    "d = [fe.df.loc[i].to_dict() for i in index]\n",
    "from sklearn.feature_extraction import DictVectorizer\n",
    "vec = DictVectorizer()\n",
    "transformed = vec.fit_transform(d).toarray()\n",
    "print vec.get_feature_names()"
   ]
  },
  {
   "cell_type": "code",
   "execution_count": null,
   "metadata": {
    "collapsed": false
   },
   "outputs": [],
   "source": [
    "inno_frame"
   ]
  },
  {
   "cell_type": "code",
   "execution_count": null,
   "metadata": {
    "collapsed": true
   },
   "outputs": [],
   "source": [
    "from sklearn import neighbors\n",
    "from sklearn import cross_validation"
   ]
  },
  {
   "cell_type": "code",
   "execution_count": null,
   "metadata": {
    "collapsed": false
   },
   "outputs": [],
   "source": [
    "features = inno_frame.columns.tolist()\n",
    "features.remove('place')\n",
    "FEATURES = inno_frame[features]\n",
    "TARGET = inno_frame.place"
   ]
  },
  {
   "cell_type": "code",
   "execution_count": null,
   "metadata": {
    "collapsed": false
   },
   "outputs": [],
   "source": [
    "FEATURES = FEATURES.reset_index().drop('team_name', axis=1)\n",
    "FEATURES"
   ]
  },
  {
   "cell_type": "code",
   "execution_count": null,
   "metadata": {
    "collapsed": false
   },
   "outputs": [],
   "source": [
    "TARGET.value_counts()"
   ]
  },
  {
   "cell_type": "code",
   "execution_count": null,
   "metadata": {
    "collapsed": false
   },
   "outputs": [],
   "source": [
    "clf = neighbors.KNeighborsClassifier(n_neighbors=5)\n",
    "clf.fit(FEATURES, TARGET)"
   ]
  },
  {
   "cell_type": "code",
   "execution_count": null,
   "metadata": {
    "collapsed": true
   },
   "outputs": [],
   "source": [
    "from sklearn import tree"
   ]
  },
  {
   "cell_type": "code",
   "execution_count": null,
   "metadata": {
    "collapsed": false
   },
   "outputs": [],
   "source": [
    "tree.DecisionTreeClassifier().fit(transformed, TARGET)"
   ]
  },
  {
   "cell_type": "code",
   "execution_count": null,
   "metadata": {
    "collapsed": true
   },
   "outputs": [],
   "source": []
  }
 ],
 "metadata": {
  "kernelspec": {
   "display_name": "Python 2",
   "language": "python",
   "name": "python2"
  },
  "language_info": {
   "codemirror_mode": {
    "name": "ipython",
    "version": 2
   },
   "file_extension": ".py",
   "mimetype": "text/x-python",
   "name": "python",
   "nbconvert_exporter": "python",
   "pygments_lexer": "ipython2",
   "version": "2.7.9"
  }
 },
 "nbformat": 4,
 "nbformat_minor": 0
}
